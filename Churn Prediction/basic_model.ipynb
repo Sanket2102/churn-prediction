{
 "cells": [
  {
   "cell_type": "code",
   "execution_count": 1,
   "metadata": {},
   "outputs": [],
   "source": [
    "from sklearn.model_selection import train_test_split,GridSearchCV\n",
    "from sklearn.tree import DecisionTreeClassifier\n",
    "from sklearn.ensemble import RandomForestClassifier\n",
    "import pandas as pd\n",
    "from sklearn.metrics import accuracy_score\n",
    "from sklearn.preprocessing import LabelEncoder"
   ]
  },
  {
   "cell_type": "code",
   "execution_count": 2,
   "metadata": {},
   "outputs": [],
   "source": [
    "data = pd.read_csv(\"prepared_data.csv\")"
   ]
  },
  {
   "cell_type": "code",
   "execution_count": 3,
   "metadata": {},
   "outputs": [
    {
     "data": {
      "text/html": [
       "<div>\n",
       "<style scoped>\n",
       "    .dataframe tbody tr th:only-of-type {\n",
       "        vertical-align: middle;\n",
       "    }\n",
       "\n",
       "    .dataframe tbody tr th {\n",
       "        vertical-align: top;\n",
       "    }\n",
       "\n",
       "    .dataframe thead th {\n",
       "        text-align: right;\n",
       "    }\n",
       "</style>\n",
       "<table border=\"1\" class=\"dataframe\">\n",
       "  <thead>\n",
       "    <tr style=\"text-align: right;\">\n",
       "      <th></th>\n",
       "      <th>SeniorCitizen</th>\n",
       "      <th>Partner</th>\n",
       "      <th>Dependents</th>\n",
       "      <th>InternetService</th>\n",
       "      <th>OnlineSecurity</th>\n",
       "      <th>OnlineBackup</th>\n",
       "      <th>DeviceProtection</th>\n",
       "      <th>TechSupport</th>\n",
       "      <th>StreamingTV</th>\n",
       "      <th>StreamingMovies</th>\n",
       "      <th>Contract</th>\n",
       "      <th>PaperlessBilling</th>\n",
       "      <th>PaymentMethod</th>\n",
       "      <th>TotalCharges</th>\n",
       "      <th>Churn</th>\n",
       "    </tr>\n",
       "  </thead>\n",
       "  <tbody>\n",
       "    <tr>\n",
       "      <th>0</th>\n",
       "      <td>0</td>\n",
       "      <td>Yes</td>\n",
       "      <td>No</td>\n",
       "      <td>DSL</td>\n",
       "      <td>No</td>\n",
       "      <td>Yes</td>\n",
       "      <td>No</td>\n",
       "      <td>No</td>\n",
       "      <td>No</td>\n",
       "      <td>No</td>\n",
       "      <td>Month-to-month</td>\n",
       "      <td>Yes</td>\n",
       "      <td>Electronic check</td>\n",
       "      <td>29.85</td>\n",
       "      <td>Not Churned</td>\n",
       "    </tr>\n",
       "    <tr>\n",
       "      <th>1</th>\n",
       "      <td>0</td>\n",
       "      <td>No</td>\n",
       "      <td>No</td>\n",
       "      <td>DSL</td>\n",
       "      <td>Yes</td>\n",
       "      <td>No</td>\n",
       "      <td>Yes</td>\n",
       "      <td>No</td>\n",
       "      <td>No</td>\n",
       "      <td>No</td>\n",
       "      <td>One year</td>\n",
       "      <td>No</td>\n",
       "      <td>Mailed check</td>\n",
       "      <td>1889.50</td>\n",
       "      <td>Not Churned</td>\n",
       "    </tr>\n",
       "    <tr>\n",
       "      <th>2</th>\n",
       "      <td>0</td>\n",
       "      <td>No</td>\n",
       "      <td>No</td>\n",
       "      <td>DSL</td>\n",
       "      <td>Yes</td>\n",
       "      <td>Yes</td>\n",
       "      <td>No</td>\n",
       "      <td>No</td>\n",
       "      <td>No</td>\n",
       "      <td>No</td>\n",
       "      <td>Month-to-month</td>\n",
       "      <td>Yes</td>\n",
       "      <td>Mailed check</td>\n",
       "      <td>108.15</td>\n",
       "      <td>Churn</td>\n",
       "    </tr>\n",
       "    <tr>\n",
       "      <th>3</th>\n",
       "      <td>0</td>\n",
       "      <td>No</td>\n",
       "      <td>No</td>\n",
       "      <td>DSL</td>\n",
       "      <td>Yes</td>\n",
       "      <td>No</td>\n",
       "      <td>Yes</td>\n",
       "      <td>Yes</td>\n",
       "      <td>No</td>\n",
       "      <td>No</td>\n",
       "      <td>One year</td>\n",
       "      <td>No</td>\n",
       "      <td>Bank transfer (automatic)</td>\n",
       "      <td>1840.75</td>\n",
       "      <td>Not Churned</td>\n",
       "    </tr>\n",
       "    <tr>\n",
       "      <th>4</th>\n",
       "      <td>0</td>\n",
       "      <td>No</td>\n",
       "      <td>No</td>\n",
       "      <td>Fiber optic</td>\n",
       "      <td>No</td>\n",
       "      <td>No</td>\n",
       "      <td>No</td>\n",
       "      <td>No</td>\n",
       "      <td>No</td>\n",
       "      <td>No</td>\n",
       "      <td>Month-to-month</td>\n",
       "      <td>Yes</td>\n",
       "      <td>Electronic check</td>\n",
       "      <td>151.65</td>\n",
       "      <td>Churn</td>\n",
       "    </tr>\n",
       "  </tbody>\n",
       "</table>\n",
       "</div>"
      ],
      "text/plain": [
       "   SeniorCitizen Partner Dependents InternetService OnlineSecurity  \\\n",
       "0              0     Yes         No             DSL             No   \n",
       "1              0      No         No             DSL            Yes   \n",
       "2              0      No         No             DSL            Yes   \n",
       "3              0      No         No             DSL            Yes   \n",
       "4              0      No         No     Fiber optic             No   \n",
       "\n",
       "  OnlineBackup DeviceProtection TechSupport StreamingTV StreamingMovies  \\\n",
       "0          Yes               No          No          No              No   \n",
       "1           No              Yes          No          No              No   \n",
       "2          Yes               No          No          No              No   \n",
       "3           No              Yes         Yes          No              No   \n",
       "4           No               No          No          No              No   \n",
       "\n",
       "         Contract PaperlessBilling              PaymentMethod  TotalCharges  \\\n",
       "0  Month-to-month              Yes           Electronic check         29.85   \n",
       "1        One year               No               Mailed check       1889.50   \n",
       "2  Month-to-month              Yes               Mailed check        108.15   \n",
       "3        One year               No  Bank transfer (automatic)       1840.75   \n",
       "4  Month-to-month              Yes           Electronic check        151.65   \n",
       "\n",
       "         Churn  \n",
       "0  Not Churned  \n",
       "1  Not Churned  \n",
       "2        Churn  \n",
       "3  Not Churned  \n",
       "4        Churn  "
      ]
     },
     "execution_count": 3,
     "metadata": {},
     "output_type": "execute_result"
    }
   ],
   "source": [
    "data.head()"
   ]
  },
  {
   "cell_type": "code",
   "execution_count": 4,
   "metadata": {},
   "outputs": [],
   "source": [
    "features = data.drop(['Churn','TotalCharges'],axis=1)\n",
    "label = data['Churn']\n",
    "\n",
    "columns = features.columns\n",
    "\n",
    "for column in columns:\n",
    "    le = LabelEncoder()\n",
    "    features[column] = le.fit_transform(features[column])\n"
   ]
  },
  {
   "cell_type": "code",
   "execution_count": 5,
   "metadata": {},
   "outputs": [],
   "source": [
    "x_train,x_test,y_train,y_test = train_test_split(features,label,test_size=0.2,random_state=47)"
   ]
  },
  {
   "cell_type": "code",
   "execution_count": 6,
   "metadata": {},
   "outputs": [],
   "source": [
    "clf = DecisionTreeClassifier()\n",
    "clf.fit(x_train,y_train)\n",
    "\n",
    "predictions = clf.predict(x_test)\n",
    "\n",
    "accuracy = accuracy_score(y_test,predictions)"
   ]
  },
  {
   "cell_type": "code",
   "execution_count": 7,
   "metadata": {},
   "outputs": [
    {
     "data": {
      "text/plain": [
       "0.7256574271499645"
      ]
     },
     "execution_count": 7,
     "metadata": {},
     "output_type": "execute_result"
    }
   ],
   "source": [
    "accuracy"
   ]
  },
  {
   "cell_type": "code",
   "execution_count": 8,
   "metadata": {},
   "outputs": [
    {
     "data": {
      "text/plain": [
       "0.8791111111111111"
      ]
     },
     "execution_count": 8,
     "metadata": {},
     "output_type": "execute_result"
    }
   ],
   "source": [
    "training_prediction = clf.predict(x_train)\n",
    "\n",
    "accuracy_score(y_train,training_prediction)"
   ]
  },
  {
   "cell_type": "code",
   "execution_count": 9,
   "metadata": {},
   "outputs": [
    {
     "name": "stdout",
     "output_type": "stream",
     "text": [
      "SeniorCitizen\n",
      "0    4714\n",
      "1     911\n",
      "Name: count, dtype: int64\n",
      "Partner\n",
      "0    2890\n",
      "1    2735\n",
      "Name: count, dtype: int64\n",
      "Dependents\n",
      "0    3948\n",
      "1    1677\n",
      "Name: count, dtype: int64\n",
      "InternetService\n",
      "1    2496\n",
      "0    1911\n",
      "2    1218\n",
      "Name: count, dtype: int64\n",
      "OnlineSecurity\n",
      "0    2800\n",
      "2    1607\n",
      "1    1218\n",
      "Name: count, dtype: int64\n",
      "OnlineBackup\n",
      "0    2473\n",
      "2    1934\n",
      "1    1218\n",
      "Name: count, dtype: int64\n",
      "DeviceProtection\n",
      "0    2472\n",
      "2    1935\n",
      "1    1218\n",
      "Name: count, dtype: int64\n",
      "TechSupport\n",
      "0    2788\n",
      "2    1619\n",
      "1    1218\n",
      "Name: count, dtype: int64\n",
      "StreamingTV\n",
      "0    2245\n",
      "2    2162\n",
      "1    1218\n",
      "Name: count, dtype: int64\n",
      "StreamingMovies\n",
      "0    2206\n",
      "2    2201\n",
      "1    1218\n",
      "Name: count, dtype: int64\n",
      "Contract\n",
      "0    3095\n",
      "2    1357\n",
      "1    1173\n",
      "Name: count, dtype: int64\n",
      "PaperlessBilling\n",
      "1    3340\n",
      "0    2285\n",
      "Name: count, dtype: int64\n",
      "PaymentMethod\n",
      "2    1881\n",
      "3    1299\n",
      "0    1238\n",
      "1    1207\n",
      "Name: count, dtype: int64\n"
     ]
    }
   ],
   "source": [
    "for column in x_train.columns:\n",
    "    print(x_train[column].value_counts())"
   ]
  },
  {
   "cell_type": "code",
   "execution_count": 10,
   "metadata": {},
   "outputs": [
    {
     "name": "stdout",
     "output_type": "stream",
     "text": [
      "SeniorCitizen\n",
      "0    1176\n",
      "1     231\n",
      "Name: count, dtype: int64\n",
      "Partner\n",
      "0    749\n",
      "1    658\n",
      "Name: count, dtype: int64\n",
      "Dependents\n",
      "0    985\n",
      "1    422\n",
      "Name: count, dtype: int64\n",
      "InternetService\n",
      "1    600\n",
      "0    505\n",
      "2    302\n",
      "Name: count, dtype: int64\n",
      "OnlineSecurity\n",
      "0    697\n",
      "2    408\n",
      "1    302\n",
      "Name: count, dtype: int64\n",
      "OnlineBackup\n",
      "0    614\n",
      "2    491\n",
      "1    302\n",
      "Name: count, dtype: int64\n",
      "DeviceProtection\n",
      "0    622\n",
      "2    483\n",
      "1    302\n",
      "Name: count, dtype: int64\n",
      "TechSupport\n",
      "0    684\n",
      "2    421\n",
      "1    302\n",
      "Name: count, dtype: int64\n",
      "StreamingTV\n",
      "0    564\n",
      "2    541\n",
      "1    302\n",
      "Name: count, dtype: int64\n",
      "StreamingMovies\n",
      "0    575\n",
      "2    530\n",
      "1    302\n",
      "Name: count, dtype: int64\n",
      "Contract\n",
      "0    780\n",
      "2    328\n",
      "1    299\n",
      "Name: count, dtype: int64\n",
      "PaperlessBilling\n",
      "1    828\n",
      "0    579\n",
      "Name: count, dtype: int64\n",
      "PaymentMethod\n",
      "2    484\n",
      "1    314\n",
      "3    305\n",
      "0    304\n",
      "Name: count, dtype: int64\n"
     ]
    }
   ],
   "source": [
    "for column in x_test.columns:\n",
    "    print(x_test[column].value_counts())"
   ]
  },
  {
   "cell_type": "code",
   "execution_count": 11,
   "metadata": {},
   "outputs": [],
   "source": [
    "param_grid = {\n",
    "    'criterion': ['gini', 'entropy'],\n",
    "    'max_depth': [None,5, 8 , 10, 20, 30, 40, 50],\n",
    "    'min_samples_split': [1, 2, 5, 10], \n",
    "    'min_samples_leaf': [1, 2, 4],\n",
    "    'max_features': [None, 'auto', 'sqrt', 'log2'],\n",
    "    'max_leaf_nodes': [None, 10, 20, 30, 40, 50],\n",
    "}"
   ]
  },
  {
   "cell_type": "code",
   "execution_count": 12,
   "metadata": {},
   "outputs": [],
   "source": [
    "grid_search = GridSearchCV(estimator=clf, param_grid=param_grid, cv=10, scoring='accuracy', n_jobs=-1)\n",
    "grid_search.fit(x_train,y_train)"
   ]
  },
  {
   "cell_type": "code",
   "execution_count": 13,
   "metadata": {},
   "outputs": [],
   "source": [
    "print(\"Best Parameters:\", grid_search.best_params_)\n",
    "print(\"Best Score:\", grid_search.best_score_)\n",
    "best_model = grid_search.best_estimator_\n"
   ]
  },
  {
   "cell_type": "code",
   "execution_count": 14,
   "metadata": {},
   "outputs": [],
   "source": [
    "y_pred = best_model.predict(x_test)\n",
    "\n",
    "accuracy_score(y_test,y_pred)"
   ]
  },
  {
   "cell_type": "code",
   "execution_count": 15,
   "metadata": {},
   "outputs": [],
   "source": [
    "train_pred = best_model.predict(x_train)\n",
    "\n",
    "accuracy_score(y_train,train_pred)"
   ]
  },
  {
   "cell_type": "code",
   "execution_count": null,
   "metadata": {},
   "outputs": [],
   "source": []
  }
 ],
 "metadata": {
  "kernelspec": {
   "display_name": "Python 3",
   "language": "python",
   "name": "python3"
  },
  "language_info": {
   "codemirror_mode": {
    "name": "ipython",
    "version": 3
   },
   "file_extension": ".py",
   "mimetype": "text/x-python",
   "name": "python",
   "nbconvert_exporter": "python",
   "pygments_lexer": "ipython3",
   "version": "3.11.3"
  }
 },
 "nbformat": 4,
 "nbformat_minor": 2
}
